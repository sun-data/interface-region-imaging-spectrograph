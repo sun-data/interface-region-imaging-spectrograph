{
 "cells": [
  {
   "cell_type": "code",
   "execution_count": 1,
   "id": "initial_id",
   "metadata": {
    "collapsed": true,
    "ExecuteTime": {
     "end_time": "2024-02-18T23:26:32.830532300Z",
     "start_time": "2024-02-18T23:26:30.151036Z"
    }
   },
   "outputs": [],
   "source": [
    "import sunpy.net.attrs"
   ]
  },
  {
   "cell_type": "code",
   "outputs": [
    {
     "data": {
      "text/plain": "<sunpy.net.fido_factory.UnifiedResponse object at 0x000001ADF54CD350>\nResults from 1 Provider:\n\n7 Results from the JSOCClient:\nSource: http://jsoc.stanford.edu\n\nTELESCOP INSTRUME\n-------- --------\n    IRIS      FUV\n    IRIS      FUV\n    IRIS      FUV\n    IRIS      FUV\n    IRIS      FUV\n    IRIS      FUV\n    IRIS      FUV\n",
      "text/html": "Results from 1 Provider:</br></br>7 Results from the JSOCClient:</br><div><i>JSOCResponse length=7</i>\n<table id=\"table1846658895248\" class=\"table-striped table-bordered table-condensed\">\n<thead><tr><th>TELESCOP</th><th>INSTRUME</th></tr></thead>\n<thead><tr><th>str4</th><th>str3</th></tr></thead>\n<tr><td>IRIS</td><td>FUV</td></tr>\n<tr><td>IRIS</td><td>FUV</td></tr>\n<tr><td>IRIS</td><td>FUV</td></tr>\n<tr><td>IRIS</td><td>FUV</td></tr>\n<tr><td>IRIS</td><td>FUV</td></tr>\n<tr><td>IRIS</td><td>FUV</td></tr>\n<tr><td>IRIS</td><td>FUV</td></tr>\n</table></div></br>"
     },
     "execution_count": 2,
     "metadata": {},
     "output_type": "execute_result"
    }
   ],
   "source": [
    "response = sunpy.net.Fido.search(\n",
    "    sunpy.net.attrs.Time(\"2017-10-21T10:57\", \"2017-10-21T10:59\"),\n",
    "    sunpy.net.attrs.jsoc.Series(\"iris.lev1\"),\n",
    "    sunpy.net.attrs.jsoc.Notify(\"roytsmart@gmail.com\"),\n",
    "    # sunpy.net.attrs.Instrument(\"FUV\"),\n",
    "    sunpy.net.attrs.jsoc.Keyword(\"INSTRUME\") == \"'FUV'\",\n",
    ")\n",
    "response"
   ],
   "metadata": {
    "collapsed": false,
    "ExecuteTime": {
     "end_time": "2024-02-18T23:26:35.481532400Z",
     "start_time": "2024-02-18T23:26:32.832532300Z"
    }
   },
   "id": "bb5e4c8635ea5d48",
   "execution_count": 2
  },
  {
   "cell_type": "code",
   "outputs": [
    {
     "name": "stdout",
     "output_type": "stream",
     "text": [
      "Export request pending. [id=JSOC_20240218_12636_X_IN, status=2]\n",
      "Waiting for 0 seconds...\n",
      "7 URLs found for download. Full request totalling 3MB\n"
     ]
    },
    {
     "data": {
      "text/plain": "Files Downloaded:   0%|          | 0/7 [00:00<?, ?file/s]",
      "application/vnd.jupyter.widget-view+json": {
       "version_major": 2,
       "version_minor": 0,
       "model_id": "3e3071248b7248418c27e0b648f81675"
      }
     },
     "metadata": {},
     "output_type": "display_data"
    },
    {
     "data": {
      "text/plain": "<parfive.results.Results object at 0x000001ADF57FB190>\n['C:\\\\Users\\\\byrdie\\\\sunpy\\\\data\\\\iris.lev1.2017-10-21T105802Z.36335558.image_lev1.fits', 'C:\\\\Users\\\\byrdie\\\\sunpy\\\\data\\\\iris.lev1.2017-10-21T105811Z.36335561.image_lev1.fits', 'C:\\\\Users\\\\byrdie\\\\sunpy\\\\data\\\\iris.lev1.2017-10-21T105820Z.36335564.image_lev1.fits', 'C:\\\\Users\\\\byrdie\\\\sunpy\\\\data\\\\iris.lev1.2017-10-21T105829Z.36335567.image_lev1.fits', 'C:\\\\Users\\\\byrdie\\\\sunpy\\\\data\\\\iris.lev1.2017-10-21T105839Z.36335570.image_lev1.fits', 'C:\\\\Users\\\\byrdie\\\\sunpy\\\\data\\\\iris.lev1.2017-10-21T105848Z.36335573.image_lev1.fits', 'C:\\\\Users\\\\byrdie\\\\sunpy\\\\data\\\\iris.lev1.2017-10-21T105857Z.36335575.image_lev1.fits']"
     },
     "execution_count": 3,
     "metadata": {},
     "output_type": "execute_result"
    }
   ],
   "source": [
    "sunpy.net.Fido.fetch(response)"
   ],
   "metadata": {
    "collapsed": false,
    "ExecuteTime": {
     "end_time": "2024-02-18T23:26:48.243534800Z",
     "start_time": "2024-02-18T23:26:35.471534100Z"
    }
   },
   "id": "8e4e8d6144bd4693",
   "execution_count": 3
  },
  {
   "cell_type": "code",
   "outputs": [
    {
     "data": {
      "text/plain": "<sunpy.net.jsoc.jsoc.JSOCResponse object at 0x000001ADF571E690>\nTELESCOP INSTRUME\n-------- --------\n    IRIS      FUV\n    IRIS      FUV\n    IRIS      FUV\n    IRIS      FUV\n    IRIS      FUV\n    IRIS      FUV\n    IRIS      FUV",
      "text/html": "<div><i>JSOCResponse length=7</i>\n<table id=\"table1846682278096\" class=\"table-striped table-bordered table-condensed\">\n<thead><tr><th>TELESCOP</th><th>INSTRUME</th></tr></thead>\n<thead><tr><th>str4</th><th>str3</th></tr></thead>\n<tr><td>IRIS</td><td>FUV</td></tr>\n<tr><td>IRIS</td><td>FUV</td></tr>\n<tr><td>IRIS</td><td>FUV</td></tr>\n<tr><td>IRIS</td><td>FUV</td></tr>\n<tr><td>IRIS</td><td>FUV</td></tr>\n<tr><td>IRIS</td><td>FUV</td></tr>\n<tr><td>IRIS</td><td>FUV</td></tr>\n</table></div>"
     },
     "execution_count": 8,
     "metadata": {},
     "output_type": "execute_result"
    }
   ],
   "source": [
    "response[\"jsoc\"]"
   ],
   "metadata": {
    "collapsed": false,
    "ExecuteTime": {
     "end_time": "2024-02-18T23:27:19.729102800Z",
     "start_time": "2024-02-18T23:27:19.720105600Z"
    }
   },
   "id": "f7e7665da10e9003",
   "execution_count": 8
  },
  {
   "cell_type": "code",
   "outputs": [],
   "source": [],
   "metadata": {
    "collapsed": false,
    "ExecuteTime": {
     "start_time": "2024-02-18T23:26:48.442033700Z"
    }
   },
   "id": "d8ad2cf9c36bd7dc"
  }
 ],
 "metadata": {
  "kernelspec": {
   "display_name": "Python 3",
   "language": "python",
   "name": "python3"
  },
  "language_info": {
   "codemirror_mode": {
    "name": "ipython",
    "version": 2
   },
   "file_extension": ".py",
   "mimetype": "text/x-python",
   "name": "python",
   "nbconvert_exporter": "python",
   "pygments_lexer": "ipython2",
   "version": "2.7.6"
  }
 },
 "nbformat": 4,
 "nbformat_minor": 5
}
